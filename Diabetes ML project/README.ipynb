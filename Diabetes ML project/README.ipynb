{
 "cells": [
  {
   "cell_type": "markdown",
   "id": "502630ae",
   "metadata": {},
   "source": [
    "# DIABETES PREDICTION DATASET\n"
   ]
  },
  {
   "cell_type": "markdown",
   "id": "c0600b15",
   "metadata": {},
   "source": [
    "The diabetes prediction dataset comprises medical and demographic information from patients, along with their diabetes status (positive or negative). Key features in the dataset include age, gender, body mass index (BMI), hypertension, heart disease, smoking history, HbA1c level, and blood glucose level. This dataset serves as a valuable resource for developing machine learning models aimed at predicting diabetes risk based on patients' medical histories and demographic profiles. Such predictive models can assist healthcare professionals in identifying individuals at risk of developing diabetes and in formulating personalized treatment plans. Furthermore, researchers can utilize the dataset to investigate the relationships between various medical and demographic factors and the likelihood of developing diabetes."
   ]
  },
  {
   "cell_type": "markdown",
   "id": "754f7aa1",
   "metadata": {},
   "source": [
    "# By Adegun Ahmed Olamilekan"
   ]
  },
  {
   "cell_type": "markdown",
   "id": "e9ed0ffa",
   "metadata": {},
   "source": [
    "## Dataset"
   ]
  },
  {
   "cell_type": "markdown",
   "id": "438ccc62",
   "metadata": {},
   "source": [
    "Diabetes Dataset: Dataset can be found in this link (https://www.kaggle.com/datasets/iammustafatz/diabetes-prediction-dataset)"
   ]
  },
  {
   "cell_type": "markdown",
   "id": "8106c0aa",
   "metadata": {},
   "source": [
    "### Dataset Dictionary\n",
    "\n",
    "   1. Gender: refers to the biological sex of the individual, which can have an impact on their susceptibility to diabetes. There are three categories in it male , female and other.\n",
    "   2. Age: is an important factor as diabetes is more commonly diagnosed in older adults.Age ranges from 0-80 in our dataset.\n",
    "   3. Hypertension: is a medical condition in which the blood pressure in the arteries is persistently elevated. It has values a 0 or 1 where 0 indicates they don’t have hypertension and for 1 it means they have hypertension.\n",
    "   4. Heart disease: is another medical condition that is associated with an increased risk of developing diabetes. It has values a 0 or 1 where 0 indicates they don’t have heart disease and for 1 it means they have heart disease.\n",
    "   5. Smoking history: is also considered a risk factor for diabetes and can exacerbate the complications associated with diabetes. In our dataset, we have 5 categories i.e. not current, former, No Info, current, never, and ever.\n",
    "   6. BMI (Body Mass Index): is a measure of body fat based on weight and height. Higher BMI values are linked to a higher risk of diabetes. The range of BMI in the dataset is from 10.16 to 71.55. \n",
    "   7. HbA1c (Hemoglobin A1c): level is a measure of a person's average blood sugar level over the past 2-3 months. Higher levels indicate a greater risk of developing diabetes. Mostly more than 6.5% of HbA1c Level indicates diabetes.\n",
    "   8. Blood glucose level: refers to the amount of glucose in the bloodstream at a given time. High blood glucose levels are a key indicator of diabetes.\n",
    "   9. Diabetes is the target variable being predicted, with values of 1 indicating the presence of diabetes and 0 indicating the absence of diabetes."
   ]
  },
  {
   "cell_type": "code",
   "execution_count": null,
   "id": "2904fddc",
   "metadata": {},
   "outputs": [],
   "source": []
  }
 ],
 "metadata": {
  "kernelspec": {
   "display_name": "Python 3 (ipykernel)",
   "language": "python",
   "name": "python3"
  },
  "language_info": {
   "codemirror_mode": {
    "name": "ipython",
    "version": 3
   },
   "file_extension": ".py",
   "mimetype": "text/x-python",
   "name": "python",
   "nbconvert_exporter": "python",
   "pygments_lexer": "ipython3",
   "version": "3.9.12"
  }
 },
 "nbformat": 4,
 "nbformat_minor": 5
}
